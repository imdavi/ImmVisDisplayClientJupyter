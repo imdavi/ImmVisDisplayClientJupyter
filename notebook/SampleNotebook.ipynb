{
 "metadata": {
  "language_info": {
   "codemirror_mode": {
    "name": "ipython",
    "version": 3
   },
   "file_extension": ".py",
   "mimetype": "text/x-python",
   "name": "python",
   "nbconvert_exporter": "python",
   "pygments_lexer": "ipython3",
   "version": "3.8.6-final"
  },
  "orig_nbformat": 2,
  "kernelspec": {
   "name": "python3",
   "display_name": "Python 3.8.6 64-bit",
   "metadata": {
    "interpreter": {
     "hash": "3013ae21c4e19d85dec3bd04588f9af04638994aa39ccf0960a8bac095bb4cd9"
    }
   }
  }
 },
 "nbformat": 4,
 "nbformat_minor": 2,
 "cells": [
  {
   "cell_type": "code",
   "execution_count": 5,
   "metadata": {},
   "outputs": [
    {
     "output_type": "stream",
     "name": "stdout",
     "text": [
      "The autoreload extension is already loaded. To reload it, use:\n  %reload_ext autoreload\n"
     ]
    }
   ],
   "source": [
    "# Enabling reloading extension to use external python files\n",
    "%load_ext autoreload\n",
    "%autoreload 2"
   ]
  },
  {
   "cell_type": "code",
   "execution_count": 6,
   "metadata": {},
   "outputs": [],
   "source": [
    "from pandas import read_csv, DataFrame\n",
    "from sklearn.datasets import make_blobs"
   ]
  },
  {
   "cell_type": "code",
   "execution_count": 7,
   "metadata": {},
   "outputs": [],
   "source": [
    "RANDOM_STATE = 435\n",
    "\n",
    "def generate_dataset_data_frame(n_samples: int, n_features:int, centers: int) -> DataFrame:\n",
    "    samples, labels = make_blobs(n_samples=n_samples, centers=centers, n_features=n_features, random_state=RANDOM_STATE)\n",
    "\n",
    "    columns = list(map(lambda number: ('Column ' + str(number+1)),  range(0, n_features)))\n",
    "\n",
    "    return DataFrame(data = samples, columns=columns)"
   ]
  },
  {
   "cell_type": "code",
   "execution_count": 11,
   "metadata": {},
   "outputs": [
    {
     "output_type": "execute_result",
     "data": {
      "text/plain": [
       "   Column 1  Column 2  Column 3  Column 4   Column 5\n",
       "0  8.963144  5.692064 -1.760924 -7.863040   6.343198\n",
       "1 -6.940235 -8.272767  4.175100 -7.510714  -4.714776\n",
       "2 -6.897816 -7.060967  3.903736 -7.456692  -5.412949\n",
       "3  6.053349  9.103959  8.786111  5.262433 -10.559231\n",
       "4  5.915515  9.621500  7.870575  5.979701  -8.547289"
      ],
      "text/html": "<div>\n<style scoped>\n    .dataframe tbody tr th:only-of-type {\n        vertical-align: middle;\n    }\n\n    .dataframe tbody tr th {\n        vertical-align: top;\n    }\n\n    .dataframe thead th {\n        text-align: right;\n    }\n</style>\n<table border=\"1\" class=\"dataframe\">\n  <thead>\n    <tr style=\"text-align: right;\">\n      <th></th>\n      <th>Column 1</th>\n      <th>Column 2</th>\n      <th>Column 3</th>\n      <th>Column 4</th>\n      <th>Column 5</th>\n    </tr>\n  </thead>\n  <tbody>\n    <tr>\n      <th>0</th>\n      <td>8.963144</td>\n      <td>5.692064</td>\n      <td>-1.760924</td>\n      <td>-7.863040</td>\n      <td>6.343198</td>\n    </tr>\n    <tr>\n      <th>1</th>\n      <td>-6.940235</td>\n      <td>-8.272767</td>\n      <td>4.175100</td>\n      <td>-7.510714</td>\n      <td>-4.714776</td>\n    </tr>\n    <tr>\n      <th>2</th>\n      <td>-6.897816</td>\n      <td>-7.060967</td>\n      <td>3.903736</td>\n      <td>-7.456692</td>\n      <td>-5.412949</td>\n    </tr>\n    <tr>\n      <th>3</th>\n      <td>6.053349</td>\n      <td>9.103959</td>\n      <td>8.786111</td>\n      <td>5.262433</td>\n      <td>-10.559231</td>\n    </tr>\n    <tr>\n      <th>4</th>\n      <td>5.915515</td>\n      <td>9.621500</td>\n      <td>7.870575</td>\n      <td>5.979701</td>\n      <td>-8.547289</td>\n    </tr>\n  </tbody>\n</table>\n</div>"
     },
     "metadata": {},
     "execution_count": 11
    }
   ],
   "source": [
    "# Generating a test dataset\n",
    "data_frame: DataFrame = generate_dataset_data_frame(n_samples = 10000, n_features=5, centers=5)\n",
    "data_frame.head()"
   ]
  },
  {
   "cell_type": "code",
   "execution_count": 10,
   "metadata": {},
   "outputs": [],
   "source": [
    "from immvisjupyter import ImmVisJupyterClient\n",
    "\n",
    "# Creating ImmVis client object\n",
    "client = ImmVisJupyterClient('localhost', 50051)\n",
    "\n",
    "# Connecting to ImmVis server\n",
    "client.connect()\n",
    "\n",
    "# Plotting the normalised dataset\n",
    "client.plot_dataset(data_frame=data_frame, normalise_before_send=True)\n",
    "\n",
    "# Disconnecting from server\n",
    "client.disconnect()\n"
   ]
  }
 ]
}